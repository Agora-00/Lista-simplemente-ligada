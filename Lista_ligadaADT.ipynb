{
  "nbformat": 4,
  "nbformat_minor": 0,
  "metadata": {
    "colab": {
      "name": "Lista_ligadaADT.ipynb",
      "provenance": []
    },
    "kernelspec": {
      "name": "python3",
      "display_name": "Python 3"
    },
    "language_info": {
      "name": "python"
    }
  },
  "cells": [
    {
      "cell_type": "code",
      "metadata": {
        "id": "o6aLRrpaKUch"
      },
      "source": [
        "class Nodo:\n",
        "    def __init__( self , value , siguiente = None ):\n",
        "        self.data = value\n",
        "        self.next = siguiente\n"
      ],
      "execution_count": 1,
      "outputs": []
    },
    {
      "cell_type": "code",
      "metadata": {
        "colab": {
          "base_uri": "https://localhost:8080/"
        },
        "id": "RnKCHrJzKqAO",
        "outputId": "1392b38f-dfc6-4330-b8ac-8d71d3b25dfd"
      },
      "source": [
        "head = Nodo(10)\n",
        "print(head.data)"
      ],
      "execution_count": 2,
      "outputs": [
        {
          "output_type": "stream",
          "name": "stdout",
          "text": [
            "10\n"
          ]
        }
      ]
    },
    {
      "cell_type": "code",
      "metadata": {
        "colab": {
          "base_uri": "https://localhost:8080/"
        },
        "id": "0jBPKCshKv0I",
        "outputId": "9287f205-7ee0-4430-bf37-f143c3e4ed0e"
      },
      "source": [
        "head = Nodo(10)\n",
        "head.next = Nodo(20)\n",
        "print(f\"Primero{ head.data }\")\n",
        "print(f\"Primero{ head.next.data }\")\n",
        "\n",
        "# lo mismo pero ahorrando codigo \n",
        "print( \"Lo mismo, pero ahorrando codigo\")\n",
        "head = Nodo ((10) , Nodo (20) )\n",
        "print(f\"Primero{ head.data }\")\n",
        "print(f\"Primero{ head.next.data }\") \n",
        "\n",
        "# Treansversal, hacer el recorrido de los nodos de una lista con curr_node\n",
        "curr_node = head\n",
        "while curr_node != None:\n",
        "    print(f\"| {curr_node.data } | ----> \" , end ='')\n",
        "    curr_node = curr_node.next\n",
        "print(\"\")\n"
      ],
      "execution_count": 3,
      "outputs": [
        {
          "output_type": "stream",
          "name": "stdout",
          "text": [
            "Primero10\n",
            "Primero20\n",
            "Lo mismo, pero ahorrando codigo\n",
            "Primero10\n",
            "Primero20\n",
            "| 10 | ----> | 20 | ----> \n"
          ]
        }
      ]
    },
    {
      "cell_type": "code",
      "metadata": {
        "colab": {
          "base_uri": "https://localhost:8080/"
        },
        "id": "AZkUPynAKx24",
        "outputId": "8bbab8ef-1cf6-4c9e-9890-e73993943249"
      },
      "source": [
        "# Ahora lo miso pero para 4 nodos\n",
        "head = Nodo (10, Nodo(20,Nodo(30,Nodo(40))))\n",
        "#Nodo(valor,siguiente)\n",
        "#Transversal\n",
        "curr_node = head\n",
        "while curr_node != None:\n",
        "    print(f\"| {curr_node.data } | ----> \" , end ='')\n",
        "    curr_node = curr_node.next\n",
        "print(\"\")\n",
        "# Imprimir el 1ro\n",
        "print(head.data)\n",
        "# Imprimir el ultimo\n",
        "curr_node = head\n",
        "while curr_node.next != None:\n",
        "    curr_node = curr_node.next\n",
        "print(curr_node.data)\n",
        "\n",
        "# insertar el nodo 25, despues del nodo 20 y antes del noto 30\n",
        "curr_node = head \n",
        "while curr_node.data != 20:\n",
        "    curr_node = curr_node.next\n",
        "print(curr_node.data)\n",
        "\n",
        "#crear el nodo 25\n",
        "\n",
        "curr_node.next = Nodo(25, curr_node.next)\n",
        "print(\"Despues de insertar 25\")\n",
        "\n",
        "#Transversal\n",
        "curr_node = head\n",
        "while curr_node != None:\n",
        "    print(f\"| {curr_node.data } | ----> \" , end ='')\n",
        "    curr_node = curr_node.next\n",
        "print(\"\")\n",
        "\n"
      ],
      "execution_count": 4,
      "outputs": [
        {
          "output_type": "stream",
          "name": "stdout",
          "text": [
            "| 10 | ----> | 20 | ----> | 30 | ----> | 40 | ----> \n",
            "10\n",
            "40\n",
            "20\n",
            "Despues de insertar 25\n",
            "| 10 | ----> | 20 | ----> | 25 | ----> | 30 | ----> | 40 | ----> \n"
          ]
        }
      ]
    },
    {
      "cell_type": "code",
      "metadata": {
        "id": "3FiM2W6TLA5M"
      },
      "source": [
        "class Nodo:\n",
        "    def __init__( self , value, siguiente = None ):\n",
        "        self.data = value\n",
        "        self.next = siguiente\n",
        "       \n",
        "\n",
        "\n",
        "\n",
        "class LinkedList: \n",
        "    def __init__( self ):\n",
        "        self.head = None # igual a lista vacia\n",
        "# regresa un     si la lista esta vacia, y esta vacia si esta apuntando a nada\n",
        "    def is_empty( self ):\n",
        "        return self.head == None\n",
        "# metodo que regresa el ultimo elemento o nodo \n",
        "    def get_tail( self ):\n",
        "        if self.is_empty():\n",
        "                return None\n",
        "        else:\n",
        "            curr_node = self.head\n",
        "            while curr_node.next != None:\n",
        "                curr_node = curr_node.next\n",
        "            return curr_node\n",
        "# metodo append, agrega un elemento al final, posicionarse al final y hacer las operaciones\n",
        "    def append( self , value ):\n",
        "        if self.head == None:\n",
        "            self.head = Nodo( value )\n",
        "        else:\n",
        "            curr_node = self.head\n",
        "            while curr_node.next != None:\n",
        "                curr_node = curr_node.next\n",
        "            curr_node.next = Nodo(value)\n",
        "\n",
        "    def transversal( self):\n",
        "        curr_node = self.head\n",
        "        while curr_node != None:\n",
        "           print(f\"| { curr_node.data} | ---> \", end =\"\")\n",
        "           curr_node = curr_node.next\n",
        "        print(\"\")\n",
        "\n",
        "\n",
        "    def remove (self, value):\n",
        "        if self.head == None:\n",
        "            print(\"liesta viaca, no se puede remover nada\")\n",
        "        else:\n",
        "            curr_node = self.head\n",
        "            aux = None # declarando variable\n",
        "            while curr_node.data != value : # revisar cuando el valor no exista\n",
        "                aux = curr_node\n",
        "                curr_node = curr_node.next\n",
        "\n",
        "            if curr_node != None:\n",
        "                aux.next = curr_node.next\n",
        "                curr_node = None # para liberar memoria\n",
        "\n",
        "    def preppend(self , value):\n",
        "        if self.head == None:\n",
        "            print(\"vacio, no se puede hacer prepend\")\n",
        "        else:\n",
        "            aux = self.head\n",
        "            self.head = Nodo( value , aux )\n",
        "    # falta pop() y pop_first()\n",
        "    def pop(self):\n",
        "        if self.head == None:\n",
        "            print(\"esta vacia, no se puede hacer nada\")\n",
        "        else:\n",
        "            curr_node = self.head\n",
        "            while curr_node.next.next != None:\n",
        "                curr_node = curr_node.next\n",
        "            curr_node.next = None\n",
        "\n",
        "    def pop_first(self):\n",
        "        if self.head == None:\n",
        "            print(\"esta vacia, no se puede hacer nada\")\n",
        "        else:\n",
        "            curr_node = self.head\n",
        "            while curr_node.next != None:\n",
        "                curr_node = curr_node.next\n",
        "            curr_node.next = None\n",
        "    def pop_first(self): \n",
        "        self.head = self.head.next\n",
        "            \n",
        "   "
      ],
      "execution_count": 5,
      "outputs": []
    },
    {
      "cell_type": "code",
      "metadata": {
        "colab": {
          "base_uri": "https://localhost:8080/"
        },
        "id": "9r_gN-shLJDr",
        "outputId": "2f2cbe97-5d08-46b7-8c17-1e0fc77bcb0c"
      },
      "source": [
        "# probando el contructor y el tail\n",
        "\n",
        "lista = LinkedList()\n",
        "if lista.is_empty():\n",
        "   print(\"la lista esta vacia\")\n",
        "else:\n",
        "   print(\"la lista no esta vacia\")\n",
        "\n",
        "lista.append(8)\n",
        "lista.append(9)\n",
        "lista.append(10)\n",
        "lista.append(20)\n",
        "lista.append(30)\n",
        "lista.append(40)\n",
        "\n",
        "nodo = lista.get_tail()\n",
        "if nodo != None :\n",
        "    print(nodo.data)\n",
        "else:\n",
        "    print(\"lista esta vacia\")\n",
        "\n",
        "lista.transversal()\n",
        "lista.remove(30)\n",
        "lista.transversal()\n",
        "lista.preppend(5)\n",
        "lista.preppend(3)\n",
        "lista.transversal()\n",
        "print(\"Despues del preppend\")\n",
        "lista.transversal()\n",
        "lista.pop()\n",
        "lista.transversal() \n",
        "lista.pop_first()\n",
        "lista.pop_first()\n",
        "lista.transversal()\n"
      ],
      "execution_count": 7,
      "outputs": [
        {
          "output_type": "stream",
          "name": "stdout",
          "text": [
            "la lista esta vacia\n",
            "40\n",
            "| 8 | ---> | 9 | ---> | 10 | ---> | 20 | ---> | 30 | ---> | 40 | ---> \n",
            "| 8 | ---> | 9 | ---> | 10 | ---> | 20 | ---> | 40 | ---> \n",
            "| 3 | ---> | 5 | ---> | 8 | ---> | 9 | ---> | 10 | ---> | 20 | ---> | 40 | ---> \n",
            "Despues del preppend\n",
            "| 3 | ---> | 5 | ---> | 8 | ---> | 9 | ---> | 10 | ---> | 20 | ---> | 40 | ---> \n",
            "| 3 | ---> | 5 | ---> | 8 | ---> | 9 | ---> | 10 | ---> | 20 | ---> \n",
            "| 8 | ---> | 9 | ---> | 10 | ---> | 20 | ---> \n"
          ]
        }
      ]
    }
  ]
}